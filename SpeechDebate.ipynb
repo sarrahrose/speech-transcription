{
  "nbformat": 4,
  "nbformat_minor": 0,
  "metadata": {
    "colab": {
      "name": "SpeechDebate.ipynb",
      "provenance": [],
      "mount_file_id": "1njjqynpMtaiDDpU-BRkWMkPEhrTma_9v",
      "authorship_tag": "ABX9TyOUXDnW3QULPqleDIFtuiFJ",
      "include_colab_link": true
    },
    "kernelspec": {
      "name": "python3",
      "display_name": "Python 3"
    }
  },
  "cells": [
    {
      "cell_type": "markdown",
      "metadata": {
        "id": "view-in-github",
        "colab_type": "text"
      },
      "source": [
        "<a href=\"https://colab.research.google.com/github/sarrahrose/speech-transcription/blob/main/SpeechDebate.ipynb\" target=\"_parent\"><img src=\"https://colab.research.google.com/assets/colab-badge.svg\" alt=\"Open In Colab\"/></a>"
      ]
    },
    {
      "cell_type": "code",
      "metadata": {
        "id": "LWYXaAp0-p4X"
      },
      "source": [
        "!pip install ibm_watson"
      ],
      "execution_count": null,
      "outputs": []
    },
    {
      "cell_type": "code",
      "metadata": {
        "id": "7rgl5_uj_9z8"
      },
      "source": [
        "from ibm_watson import SpeechToTextV1\n",
        "from ibm_cloud_sdk_core.authenticators import IAMAuthenticator"
      ],
      "execution_count": null,
      "outputs": []
    },
    {
      "cell_type": "code",
      "metadata": {
        "id": "sf0j79qlAGlH"
      },
      "source": [
        "api_key = 'qE0Rd-9NjHPUIjOcojkmo1FAz8aq7sOldvSvyB5iU2mD'\n",
        "url = 'https://api.au-syd.speech-to-text.watson.cloud.ibm.com/instances/e8bb5a88-97a7-4956-93f4-f31d2711389a'"
      ],
      "execution_count": null,
      "outputs": []
    },
    {
      "cell_type": "code",
      "metadata": {
        "id": "QgRdTugYC70U"
      },
      "source": [
        "authenticator = IAMAuthenticator(api_key)\n",
        "stt = SpeechToTextV1(authenticator = authenticator)\n",
        "stt.set_service_url(url)"
      ],
      "execution_count": null,
      "outputs": []
    },
    {
      "cell_type": "code",
      "metadata": {
        "colab": {
          "base_uri": "https://localhost:8080/"
        },
        "id": "EW_By9vODGbt",
        "outputId": "a3d68a57-e432-455d-9b3a-2227d13d311d"
      },
      "source": [
        "from google.colab import drive\n",
        "drive.mount('/content/drive')"
      ],
      "execution_count": null,
      "outputs": [
        {
          "output_type": "stream",
          "text": [
            "Drive already mounted at /content/drive; to attempt to forcibly remount, call drive.mount(\"/content/drive\", force_remount=True).\n"
          ],
          "name": "stdout"
        }
      ]
    },
    {
      "cell_type": "code",
      "metadata": {
        "colab": {
          "base_uri": "https://localhost:8080/"
        },
        "id": "Gm_dnnE6NOph",
        "outputId": "46f4234c-230f-4e01-dde9-b952da2571c9"
      },
      "source": [
        "cd /content/drive/MyDrive/Audio_Files"
      ],
      "execution_count": null,
      "outputs": [
        {
          "output_type": "stream",
          "text": [
            "/content/drive/MyDrive/Audio_Files\n"
          ],
          "name": "stdout"
        }
      ]
    },
    {
      "cell_type": "code",
      "metadata": {
        "id": "levgRVAnDGiL"
      },
      "source": [
        "import subprocess\n",
        "command = 'ffmpeg -i audio_file.mp3 -f segment -segment_time 360 -c copy %03d.mp3'\n",
        "subprocess.call(command, shell = True)\n"
      ],
      "execution_count": null,
      "outputs": []
    },
    {
      "cell_type": "code",
      "metadata": {
        "id": "TdF2gFsERVk1"
      },
      "source": [
        "import os\n",
        "files = []\n",
        "for filename in os.listdir(\".\"): \n",
        "  if filename.endswith(\".mp3\") and filename != \"audio_file.mp3\":\n",
        "    files.append(filename)\n",
        "files.sort\n"
      ],
      "execution_count": null,
      "outputs": []
    },
    {
      "cell_type": "code",
      "metadata": {
        "colab": {
          "base_uri": "https://localhost:8080/"
        },
        "id": "r_i8tkCbVI3T",
        "outputId": "ede33dbe-9ecb-45b6-9c65-b16c0b399c44"
      },
      "source": [
        "pip install PyJWT==1.7.1"
      ],
      "execution_count": null,
      "outputs": [
        {
          "output_type": "stream",
          "text": [
            "Requirement already satisfied: PyJWT==1.7.1 in /usr/local/lib/python3.6/dist-packages (1.7.1)\n"
          ],
          "name": "stdout"
        }
      ]
    },
    {
      "cell_type": "code",
      "metadata": {
        "id": "KbxGBM8nTcTZ"
      },
      "source": [
        "results = []\n",
        "for filename in files: \n",
        "  with open  (filename,'rb') as f: \n",
        "    res = stt.recognize(audio=f, content_type ='audio/mp3', model = 'en-GB_NarrowbandModel', continous=True, \\\n",
        "                        inactivity_timeout = 360).get_result()\n",
        "\n",
        "    results.append(res)\n"
      ],
      "execution_count": null,
      "outputs": []
    },
    {
      "cell_type": "code",
      "metadata": {
        "id": "R6zr7MItXOuK"
      },
      "source": [
        "text = []\n",
        "for file in results: \n",
        "  for result in file['results']: \n",
        "    text.append(result['alternatives'][0]['transcript'].rstrip() + '.\\n')\n"
      ],
      "execution_count": null,
      "outputs": []
    },
    {
      "cell_type": "code",
      "metadata": {
        "id": "2YUQMhiVXfJV"
      },
      "source": [
        "with open ('output.txt', 'w') as out: \n",
        "  out.writelines(text)"
      ],
      "execution_count": null,
      "outputs": []
    }
  ]
}